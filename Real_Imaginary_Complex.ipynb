{
  "cells": [
    {
      "cell_type": "markdown",
      "metadata": {
        "id": "view-in-github",
        "colab_type": "text"
      },
      "source": [
        "<a href=\"https://colab.research.google.com/github/gopalm-ai/Cryptocurrency-Prediction-with-Artificial-Intelligence/blob/main/Real_Imaginary_Complex.ipynb\" target=\"_parent\"><img src=\"https://colab.research.google.com/assets/colab-badge.svg\" alt=\"Open In Colab\"/></a>"
      ]
    },
    {
      "cell_type": "markdown",
      "metadata": {
        "id": "sOz4NKwK52OI"
      },
      "source": [
        "# Workflow: Real, Imaginary, and Complex Numbers"
      ],
      "id": "sOz4NKwK52OI"
    },
    {
      "cell_type": "markdown",
      "metadata": {
        "id": "uccAazNP52OM"
      },
      "source": [
        "## Exercise and Deliverables"
      ],
      "id": "uccAazNP52OM"
    },
    {
      "cell_type": "code",
      "source": [
        "import math\n",
        "import cmath\n",
        "import matplotlib.pyplot as plt\n",
        "import functools"
      ],
      "metadata": {
        "id": "aTjFpgG058VU"
      },
      "id": "aTjFpgG058VU",
      "execution_count": null,
      "outputs": []
    },
    {
      "cell_type": "code",
      "execution_count": null,
      "metadata": {
        "id": "JItKbSit52OM"
      },
      "outputs": [],
      "source": [
        "complex_numbers = [\n",
        "    complex(1,1), \n",
        "    complex(2,1), \n",
        "    complex(6,3), \n",
        "    complex(-3,4), \n",
        "    complex(6,-1)\n",
        "]"
      ],
      "id": "JItKbSit52OM"
    },
    {
      "cell_type": "markdown",
      "source": [
        "## Straight Addition"
      ],
      "metadata": {
        "id": "_8T6TIsXyFFv"
      },
      "id": "_8T6TIsXyFFv"
    },
    {
      "cell_type": "code",
      "source": [
        "sum = 0.0\n",
        "for num in complex_numbers:\n",
        "  sum += num\n",
        "print(sum)"
      ],
      "metadata": {
        "colab": {
          "base_uri": "https://localhost:8080/"
        },
        "id": "mG7ZeuEnwrpF",
        "outputId": "9d98cec0-9936-400b-c6aa-8ca6a59fb233"
      },
      "id": "mG7ZeuEnwrpF",
      "execution_count": null,
      "outputs": [
        {
          "output_type": "stream",
          "name": "stdout",
          "text": [
            "(12+8j)\n"
          ]
        }
      ]
    },
    {
      "cell_type": "code",
      "source": [
        ""
      ],
      "metadata": {
        "id": "2mpJhPtawruy"
      },
      "id": "2mpJhPtawruy",
      "execution_count": null,
      "outputs": []
    },
    {
      "cell_type": "markdown",
      "source": [
        "\n",
        "## Using List Comprehension\n"
      ],
      "metadata": {
        "id": "AbolmMCE1yOw"
      },
      "id": "AbolmMCE1yOw"
    },
    {
      "cell_type": "code",
      "source": [
        "#real_sum = 0.0\n",
        "real_parts = [float(number.real) for number in complex_numbers]\n",
        "real_sum = functools.reduce(lambda a, b: a+b, real_parts)\n",
        "print(real_sum)"
      ],
      "metadata": {
        "colab": {
          "base_uri": "https://localhost:8080/"
        },
        "id": "V6WvT2Zkwrxp",
        "outputId": "50d99994-d25a-41c3-df85-5648f6b41746"
      },
      "id": "V6WvT2Zkwrxp",
      "execution_count": null,
      "outputs": [
        {
          "output_type": "stream",
          "name": "stdout",
          "text": [
            "12.0\n"
          ]
        }
      ]
    },
    {
      "cell_type": "code",
      "source": [
        "imag_parts = [float(number.imag) for number in complex_numbers]\n",
        "imag_sum = functools.reduce(lambda a, b: a+b, imag_parts)\n",
        "print(imag_sum)"
      ],
      "metadata": {
        "colab": {
          "base_uri": "https://localhost:8080/"
        },
        "id": "ncntzi9H1v3O",
        "outputId": "77b6bd56-5f37-4523-92c0-f5a9a5c2d27d"
      },
      "id": "ncntzi9H1v3O",
      "execution_count": null,
      "outputs": [
        {
          "output_type": "stream",
          "name": "stdout",
          "text": [
            "8.0\n"
          ]
        }
      ]
    },
    {
      "cell_type": "code",
      "source": [
        "z = complex(real_sum,imag_sum)\n",
        "print(z)"
      ],
      "metadata": {
        "colab": {
          "base_uri": "https://localhost:8080/"
        },
        "id": "deM_1_m_2R1D",
        "outputId": "706141e7-874c-4408-b411-94686233aa71"
      },
      "id": "deM_1_m_2R1D",
      "execution_count": null,
      "outputs": [
        {
          "output_type": "stream",
          "name": "stdout",
          "text": [
            "(12+8j)\n"
          ]
        }
      ]
    },
    {
      "cell_type": "code",
      "source": [
        "for z in complex_numbers:\n",
        "    plt.scatter(z.real, z.imag)"
      ],
      "metadata": {
        "colab": {
          "base_uri": "https://localhost:8080/",
          "height": 265
        },
        "id": "2HmztHQJS1CJ",
        "outputId": "e0fb85f9-c18c-4e04-c77a-669652d16ae3"
      },
      "id": "2HmztHQJS1CJ",
      "execution_count": null,
      "outputs": [
        {
          "output_type": "display_data",
          "data": {
            "text/plain": [
              "<Figure size 432x288 with 1 Axes>"
            ],
            "image/png": "[encoded data removed]"
          },
          "metadata": {
            "needs_background": "light"
          }
        }
      ]
    },
    {
      "cell_type": "code",
      "source": [
        ""
      ],
      "metadata": {
        "id": "5qjMr714TOIR"
      },
      "id": "5qjMr714TOIR",
      "execution_count": null,
      "outputs": []
    }
  ],
  "metadata": {
    "kernelspec": {
      "display_name": "Python 3",
      "language": "python",
      "name": "python3"
    },
    "language_info": {
      "codemirror_mode": {
        "name": "ipython",
        "version": 3
      },
      "file_extension": ".py",
      "mimetype": "text/x-python",
      "name": "python",
      "nbconvert_exporter": "python",
      "pygments_lexer": "ipython3",
      "version": "3.7.4"
    },
    "colab": {
      "name": "Real_Imaginary_Complex.ipynb",
      "provenance": [],
      "collapsed_sections": [],
      "include_colab_link": true
    }
  },
  "nbformat": 4,
  "nbformat_minor": 5
}